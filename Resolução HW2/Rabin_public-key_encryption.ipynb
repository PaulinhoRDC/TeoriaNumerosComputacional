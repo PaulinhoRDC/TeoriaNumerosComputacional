{
 "cells": [
  {
   "cell_type": "markdown",
   "metadata": {},
   "source": [
    "# HW2: Sistema Criptográfico de chave pública de Rabin\n",
    "\n",
    ">### Grupo: \n",
    ">>André Araújo A87987\n",
    "\\\n",
    ">>Miguel Gonçalves A90416\n",
    "\\\n",
    ">>Paulo Costa A87986"
   ]
  },
  {
   "cell_type": "markdown",
   "metadata": {},
   "source": [
    "## Descrição: \n",
    "\n",
    "> Pretende-se que implemente o sistema criptográfico de chave pública de Rabin.  \\\n",
    "\\\n",
    "> Ver, por exemplo, secção 8.3 do Cap 8 do livro Handbook of Applied Cryptography, A. Menezes, P. van Oorschot, S. Vanstone, CRC Press, 1996. (ver na área \"conteúdo\"). \\\n",
    "\\\n",
    "> Algumas observações: a mensagem a ser cifrada terá que ser, de alguma forma, codificada (isto porque a decifração produz 4 alternativas). Uma forma simples é transformar a mensagem original na sua repetição (ou usar alguns dígitos e repeti-los). Por exemplo, a mensagem 1234 é transformada no texto limpo 12341234.\n",
    "Pode, também, usar a função sqrt do sagemath para calcular a raiz quadrada modular, mod um primo. Nesse caso, deverá definir o corpo Zp e considerar o elemento nessa estrutura.  Depois, basta usar o Teorema Chinês dos Restos. \\\n",
    "> Deverá: \n",
    ">>- descrever o sistema de Rabin; \n",
    ">>- exemplificar; \n",
    ">>- implementar as funções de criação de chave, cifração e decifração; \n",
    ">>- discutir a premissa de segurança. "
   ]
  },
  {
   "cell_type": "markdown",
   "metadata": {},
   "source": [
    "## Introdução:\n",
    "\n",
    "#### 8.10 Gerar chave para a encriptação da public-key de Rabin\n",
    "\n",
    "Sumário: Cada entidade cria uma chave pública e uma chave privada correspondente.\n",
    "Cada entidade A deve fazer o seguinte:\n",
    "1. Gerar dois números primos grandes aleatórios (e distintos) p e q, com aproximadamente o mesmo tamanho.\n",
    "2. Calcular n = pq.\n",
    "3. A chave pública de A é n e a chave privada é (p,q).\n",
    "\n",
    "#### 8.11 Encriptação da public-key de Rabin\n",
    "Sumário: B vai encriptar uma mensagem m para A, no qual A vai decifrar.\n",
    "1. Encriptação. B deve fazer o seguinte:\n",
    ">**(a)** Obter a chave pública autêntica n de A.\\\n",
    ">**(b)** Representar a mensagem como um inteiro m no intervalo {0, 1,... ,n − 1}.\\\n",
    ">**(c)** Calcular $c = m^2 mod n.$\\\n",
    ">**(d)** Enviar o texto encriptado c para A.\n",
    "2. Decifrar. Para recuperar o texto simples m de c, A deve fazer o seguinte:\n",
    ">**(a)** Usar o algoritmo 3.44 para encontrar as quatro raízes quadradas m1, m2, m3 e m4 de c modulo n (Ver também a nota 8.12).\\\n",
    ">**(b)** A mensagem enviada foi m1,m2,m3 ou m4. A nota 8.14 decide qual destes é m."
   ]
  },
  {
   "cell_type": "markdown",
   "metadata": {},
   "source": [
    "### Exemplo do sistema criptográfico de chave pública de Rabin\n",
    "\n",
    ">Suponhamos que o Paulo pretende enviar uma mensagem x ao André (pode ser, por exemplo, o pin do cartão MB). O André cria uma chave pública e uma chave privada. O Paulo consulta a chave pública de André e cifra a mensagem, enviando o criptograma y ao André. O André, usando a chave privada, decifra y e obtém a mensagem original x. \\\n",
    "\\\n",
    ">Uma frase que acaba por exemplificar bastante bem, os passos que já a seguir na implementação das funções iremos ter em conta."
   ]
  },
  {
   "cell_type": "markdown",
   "metadata": {},
   "source": [
    "## Resolução:"
   ]
  },
  {
   "cell_type": "code",
   "execution_count": 15,
   "metadata": {},
   "outputs": [],
   "source": [
    "# função auxiliar que duplica a mensagem #\n",
    "def duplica(i):\n",
    "    mens = ZZ(i)\n",
    "    mm = str(mens)\n",
    "    mmmm = mm+mm\n",
    "    #print (mmmm)\n",
    "    str_to_int = int(mmmm)\n",
    "    return str_to_int\n",
    "\n",
    "# função auxiliar que recebe uma lista de possiveis mensagens, encontra a mensagem com elementos repetidos e\n",
    "# retira os duplicados. Retornando essa mensagem pois é a a mensagem correta!\n",
    "def singl(ms):\n",
    "    ms=[str(m) for m in ms]\n",
    "    for c in ms:\n",
    "        if (c[0:len(c)//2]==c[len(c)//2:]):\n",
    "            m=c[0:len(c)//2]\n",
    "            return int(m)"
   ]
  },
  {
   "cell_type": "code",
   "execution_count": 16,
   "metadata": {},
   "outputs": [],
   "source": [
    "# função que gera as chaves privadas e a chave publica\n",
    "def generate():\n",
    "    nbits=30\n",
    "    m=2^nbits\n",
    "    M=2^(nbits-1)\n",
    "    p=random_prime(m, lbound=M)\n",
    "    while(mod(p,4)!=3):\n",
    "        p=random_prime(m, lbound=M)\n",
    "    q=random_prime(m, lbound=M)\n",
    "    while(p==q or mod(q,4)!=3):\n",
    "        q=random_prime(m, lbound=M)\n",
    "    n=p*q\n",
    "    return (n,(p,q))"
   ]
  },
  {
   "cell_type": "code",
   "execution_count": 17,
   "metadata": {},
   "outputs": [],
   "source": [
    "# função que recebe uma mensagem e a chave publica, duplica a mensagem e encripta a mensagem\n",
    "def encryption(m,pubKey):\n",
    "    n=pubKey\n",
    "    m1=duplica(m)\n",
    "    if m1>=n:\n",
    "        print('mensagem muito grande tente com outra mais pequena')\n",
    "        return\n",
    "    c=power_mod(m1, 2, n)\n",
    "    return c"
   ]
  },
  {
   "cell_type": "markdown",
   "metadata": {},
   "source": [
    "### Nota 8.12\n",
    ">(*Encontrar raízes quadradas de c modulo n = pq quando p ≡ q ≡ 3 (mod 4)*) Se p e q forem ambos escolhido como ≡ 3 (mod 4), então o algoritmo 3.44 calcula as quatro raízes quadradas de c modulo n da seguinte forma: \\\n",
    "\\\n",
    ">**1.** Usar o algoritmo de Euclides estendido (2.107) para encontrar inteiros a e b que satisfaçam ap + bq = 1. Observe que a e b podem ser calculados de uma vez só enquanto estamos a gerar a chave (8.10). \\\n",
    ">**2.** Calcular $r = c^{(p+1)/4} mod p$. \\\n",
    ">**3.** Calcular $s = c^{(q+1)/4} mod q$. \\\n",
    ">**4.** Calcular x = (aps + bqr) mod n. \\\n",
    ">**5.** Calcular y = (aps − bqr) mod n. \\\n",
    ">**6.** As quatro raízes quadradas de c modulo n vão ser x, −x mod n, y, e −y mod n."
   ]
  },
  {
   "cell_type": "code",
   "execution_count": 18,
   "metadata": {},
   "outputs": [],
   "source": [
    "# função que recebe uma mensagem e as chaves privadas e publica e decripta a mensagem\n",
    "def decryption(c,key):\n",
    "    pubKey,privKey=key\n",
    "    n=pubKey\n",
    "    p,q=privKey\n",
    "    r,a,b=xgcd(p,q)\n",
    "    if r!=1:\n",
    "        print('erro')\n",
    "        return\n",
    "    r=power_mod(c,(p+1)//4,p)\n",
    "    s=power_mod(c,(q+1)//4,q)\n",
    "    k=a*p*s\n",
    "    l=b*q*r\n",
    "    x=mod(k+l,n)\n",
    "    y=mod(k-l,n)\n",
    "    ms=[x,mod(-x,n),y,mod(-y,n)]\n",
    "    print(ms)\n",
    "    return singl(ms)\n",
    "    "
   ]
  },
  {
   "cell_type": "code",
   "execution_count": 19,
   "metadata": {},
   "outputs": [],
   "source": [
    "key=generate()\n",
    "pubKey,privKey=key"
   ]
  },
  {
   "cell_type": "code",
   "execution_count": 20,
   "metadata": {},
   "outputs": [
    {
     "data": {
      "text/plain": [
       "208352079936"
      ]
     },
     "execution_count": 20,
     "metadata": {},
     "output_type": "execute_result"
    }
   ],
   "source": [
    "c=encryption(456,pubKey)\n",
    "c"
   ]
  },
  {
   "cell_type": "code",
   "execution_count": 21,
   "metadata": {
    "scrolled": false
   },
   "outputs": [
    {
     "name": "stdout",
     "output_type": "stream",
     "text": [
      "[290852694740825157, 275454773058224720, 456456, 566307467798593421]\n"
     ]
    },
    {
     "data": {
      "text/plain": [
       "456"
      ]
     },
     "execution_count": 21,
     "metadata": {},
     "output_type": "execute_result"
    }
   ],
   "source": [
    "decryption(c,key)"
   ]
  },
  {
   "cell_type": "markdown",
   "metadata": {},
   "source": [
    "## Discutir a premissa de segurança."
   ]
  },
  {
   "cell_type": "markdown",
   "metadata": {},
   "source": [
    ">(i) A tarefa enfrentada por um adversário passivo é recuperar o texto simples m do texto cifrado correspondente c. Lembrando-se de que os problemas de fatorar ne calcular o módulo n de raízes quadradas são computacionalmente equivalentes. Portanto, assumindo que a fatoração n é computacionalmente intratável, o esquema de criptografia de chave pública de Rabin é comprovadamente seguro contra um adversário passivo. \\\n",
    "\\\n",
    ">(ii) Embora comprovadamente seguro contra um adversário passivo, o esquema de criptografia de chave pública Rabin sucumbe a um ataque de texto cifrado escolhido. Esse ataque pode ser montado da seguinte maneira. O adversário seleciona um inteiro aleatório  m∈Z∗n  e calcula  c=m2modn . O adversário então apresenta c para a máquina de descriptografia de A, que descriptografa c e retorna algum texto simples y. Uma vez que A não conhece m, e m é escolhido aleatoriamente, o texto simples y não é necessariamente o mesmo que m. Com probabilidade  1/2 ,  y≠±mmodn , em cujo caso gcd (m - y, n) é um dos fatores primos de n. Se  y≡±mmodn , então o ataque é repetido com um novo m. \\\n",
    "\\\n",
    ">(iii) O esquema de criptografia de chave pública Rabin é suscetível a ataques semelhantes aos do RSA. Como é o caso do RSA, alguns ataques podem ser contornados com o salt da mensagem de texto simples, enquanto outros o ataque pode ser evitado adicionando redundância apropriada antes da criptografia"
   ]
  },
  {
   "cell_type": "markdown",
   "metadata": {},
   "source": [
    "## Conclusão:"
   ]
  },
  {
   "cell_type": "markdown",
   "metadata": {},
   "source": [
    ">Em estilo de conclusão, achamos que os objetivos do exercício foram alcançados. Isto, pois conseguimos implementar sistema criptográfico de chave pública de Rabin de uma forma, que a nosso ver foi, muito bem conseguida.\n",
    "\\\n",
    "\\\n",
    ">Esperemos que os professores também achem o mesmo e assim, damos como concluído o segundo trabalho relativo à UC **Teoria de Números Computacional** e esperemos que continuemos com este sucesso nos próximos!\n",
    "\n"
   ]
  }
 ],
 "metadata": {
  "kernelspec": {
   "display_name": "Python 3",
   "language": "python",
   "name": "python3"
  },
  "language_info": {
   "codemirror_mode": {
    "name": "ipython",
    "version": 3
   },
   "file_extension": ".py",
   "mimetype": "text/x-python",
   "name": "python",
   "nbconvert_exporter": "python",
   "pygments_lexer": "ipython3",
   "version": "3.8.5"
  }
 },
 "nbformat": 4,
 "nbformat_minor": 4
}
