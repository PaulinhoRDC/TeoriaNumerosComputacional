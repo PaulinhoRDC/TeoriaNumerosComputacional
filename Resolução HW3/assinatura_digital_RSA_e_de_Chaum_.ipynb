{
 "cells": [
  {
   "cell_type": "markdown",
   "metadata": {},
   "source": [
    "# HW3: Assinatura Digital ElGamal\n",
    "\n",
    ">### Grupo: \n",
    ">>André Araújo A87987\n",
    "\\\n",
    ">>Miguel Gonçalves A90416\n",
    "\\\n",
    ">>Paulo Costa A87986"
   ]
  },
  {
   "cell_type": "markdown",
   "metadata": {},
   "source": [
    "## Descrição: \n",
    "\n",
    ">Pretende-se que implemente o esquema de assinatura digital RSA.\n",
    "\\\n",
    ">Ver, por exemplo, pag 221 e seguintes de N Smart, \"Cryptography: An Introduction \n",
    "(3rd Edition)\" (ou ainda 9.1 de David R. Kohel, \"Cryptography\"); por forma a usar a secção 3, sugerimos que use a construção da síntese dada pela função de hash do sagemath. Por exemplo, a \"hash\" de uma mensagem pode ser obtida assim: \\\n",
    ">import hashlib \\\n",
    ">HH =hashlib.sha256(b\"Nobody expects the Spanish Inquisition\").hexdigest() \\\n",
    ">ZZ('0x'+HH)  \\\n",
    "\\\n",
    ">Neste caso, usámos a função de hash SHA3 com 256 bits; independentemente do tamanho da mensagem original, a função de hash tem como imagem uma mensagem com no máximo 256 bits. \\\n",
    "\\\n",
    ">Ver, também, https://en.wikipedia.org/wiki/RSA_(cryptosystem)#Signing_messages \\\n",
    "\\\n",
    ">Finalmente, explore a assinatura cega RSA, também denominada assinatura cega de Chaum: https://en.wikipedia.org/wiki/Blind_signature#Blind_RSA_signatures \n",
    "ou ainda 9.3 de David R. Kohel, \"Cryptography\""
   ]
  },
  {
   "cell_type": "markdown",
   "metadata": {},
   "source": [
    "## Introdução:\n",
    ">>O algotirmo de criptografia RSA é particularmente interessante, pois pode ser usado diretamente como um algoritmo de assinatura com recuperação de mensagem . \\\n",
    ">>•O remetente aplica a decriptação RSA para gerar a assinatura, pegando na assinatura e elevada ao expoente privado d.    \\\n",
    "s =$ m^d$ (mod N). \\\n",
    ">>•O destinatário aplica a Encriptação RSA para recuperar a mensagem original.  \\\n",
    "m = $s^e$ (mod N)."
   ]
  },
  {
   "cell_type": "code",
   "execution_count": 117,
   "metadata": {},
   "outputs": [],
   "source": [
    "def chave_RSA(nbits):#cria a chave com nbits bits\n",
    "    p=random_prime(2^(nbits//2),2^(nbits//2-1))\n",
    "    q=random_prime(2^(nbits//2+1),2^(nbits//2))\n",
    "    n=p*q\n",
    "    m=(p-1)*(q-1)\n",
    "    Zm=IntegerModRing(m)\n",
    "    Zn=IntegerModRing(n)\n",
    "    e=Zm.random_element()\n",
    "    while gcd(e,m)!=1:\n",
    "        e=Zm.random_element()\n",
    "    d=1/e\n",
    "    return (n,e),(n,d)\n"
   ]
  },
  {
   "cell_type": "code",
   "execution_count": 118,
   "metadata": {},
   "outputs": [
    {
     "data": {
      "text/plain": [
       "((3784320389, 307035235), (3784320389, 378410779))"
      ]
     },
     "execution_count": 118,
     "metadata": {},
     "output_type": "execute_result"
    }
   ],
   "source": [
    "PubKey,PrivKey=chave_RSA(32)\n",
    "PubKey,PrivKey"
   ]
  },
  {
   "cell_type": "code",
   "execution_count": 121,
   "metadata": {},
   "outputs": [],
   "source": [
    "# Função que assina uma mensagem\n",
    "def assina(m,PrivKey): \n",
    "    n,d=PrivKey\n",
    "    Zn=IntegerModRing(n)\n",
    "    s=Zn(m)^d\n",
    "    return s"
   ]
  },
  {
   "cell_type": "code",
   "execution_count": 122,
   "metadata": {},
   "outputs": [],
   "source": [
    "# Função que confirma a assinatura de uma mensagem\n",
    "def verifica(s,PubKey): \n",
    "    n,e=PubKey\n",
    "    Zn=IntegerModRing(n)\n",
    "    m=Zn(s)^e\n",
    "    return m"
   ]
  },
  {
   "cell_type": "code",
   "execution_count": 123,
   "metadata": {},
   "outputs": [],
   "source": [
    "m=12345"
   ]
  },
  {
   "cell_type": "code",
   "execution_count": 124,
   "metadata": {},
   "outputs": [
    {
     "data": {
      "text/plain": [
       "3055372562"
      ]
     },
     "execution_count": 124,
     "metadata": {},
     "output_type": "execute_result"
    }
   ],
   "source": [
    "s=assina(m,PrivKey)\n",
    "s"
   ]
  },
  {
   "cell_type": "code",
   "execution_count": 125,
   "metadata": {},
   "outputs": [
    {
     "data": {
      "text/plain": [
       "12345"
      ]
     },
     "execution_count": 125,
     "metadata": {},
     "output_type": "execute_result"
    }
   ],
   "source": [
    "verifica(s,PubKey)"
   ]
  },
  {
   "cell_type": "markdown",
   "metadata": {},
   "source": [
    "# Esquema de assinatura RSA com Hash\n",
    ">Suponhamos que recebemos uma mensagem muito longa m para assinar, primeiro calculamos h(m) e depois aplicamos a assinatura RSA a h(m), i.e. a assinatura é dada por \n",
    "$$s = h(m)^d (mod N)$$\n",
    ">A assinatura e a mensagem são então enviadas como par (m,s). \\\n",
    ">Para verificar o par (m,s) usando uma função hash temos 3 etapas:\n",
    ">>• Encriptar s usando a encriptação RSA para recuperar h\"\n",
    ", i.e.\n",
    "   $h\" = s^e (mod N).$ \\\n",
    ">>• Calcular h(m) de m.\\\n",
    ">>• Verificar se h\" = h(m). Se verificar, aceitar a assinatura como válida, caso contrário a assinatura deve ser rejeitada."
   ]
  },
  {
   "cell_type": "code",
   "execution_count": 160,
   "metadata": {},
   "outputs": [],
   "source": [
    "# Função que assina uma mensagem atravez de uma função de hash\n",
    "import hashlib\n",
    "def assinahash(ms,PrivKey): \n",
    "    n,d=PrivKey\n",
    "    HH =hashlib.sha256(ms.encode('utf-8')).hexdigest()\n",
    "    m=ZZ('0x'+HH)\n",
    "    Zn=IntegerModRing(n)\n",
    "    s=Zn(m)^d\n",
    "    return ms,s"
   ]
  },
  {
   "cell_type": "code",
   "execution_count": 161,
   "metadata": {},
   "outputs": [],
   "source": [
    "# Função que confirma a assinatura de uma mensagem atravez de uma função de hash\n",
    "def verificahash(p,PubKey): \n",
    "    n,e=PubKey\n",
    "    ms,s=p\n",
    "    Zn=IntegerModRing(n)\n",
    "    m=Zn(s)^e\n",
    "    HH =hashlib.sha256(ms.encode('utf-8')).hexdigest()\n",
    "    m1=ZZ('0x'+HH)\n",
    "    return m==m1"
   ]
  },
  {
   "cell_type": "code",
   "execution_count": 162,
   "metadata": {},
   "outputs": [
    {
     "data": {
      "text/plain": [
       "('12345', 2581399952)"
      ]
     },
     "execution_count": 162,
     "metadata": {},
     "output_type": "execute_result"
    }
   ],
   "source": [
    "m=\"12345\"\n",
    "s=assinahash(m,PrivKey)\n",
    "s"
   ]
  },
  {
   "cell_type": "code",
   "execution_count": 163,
   "metadata": {},
   "outputs": [
    {
     "data": {
      "text/plain": [
       "True"
      ]
     },
     "execution_count": 163,
     "metadata": {},
     "output_type": "execute_result"
    }
   ],
   "source": [
    "verificahash(s,PubKey)"
   ]
  },
  {
   "cell_type": "markdown",
   "metadata": {},
   "source": [
    "# Esquema de assinatura cega de Chaum\n",
    ">O esquema de assinatura ceha de Chaum é um esquema baseado no RSA, adaptado para assinaturas cegas.\n",
    "No protocolo a seguir, assumimos que o Bob configurou uma chave pública RSA (e,n) com a chave privada correspondente (d,n), de forma a que as funções de assinatura RSA do Bob são $S_B(m) = m^d$.\n",
    ">>1. *Configuração inicial:* A Alice obtém a chave pública do Bob (e,n) e escolhe uma chave de sessão pública aleatória k, de modo a que 0 < k < n e gcd(k,n)=1.\n",
    ">>2. *Blinding:* A Alice calcula $m^∗ = m.k^e$, e envia $m^∗$ para o Bob.\n",
    ">>3. *Assinar:* O Bob calcula $s^∗ = m^{∗d}$ e envia de volta para a Alice.\n",
    ">>4. *Unblinding:* A Alice calcula $s = k^{−1}s^∗$, que é equivalente a $S_B(m) = m^d$."
   ]
  },
  {
   "cell_type": "code",
   "execution_count": 198,
   "metadata": {},
   "outputs": [],
   "source": [
    "# Implemetação da 1ªparte da blind signature\n",
    "import random\n",
    "def blind1(m,PubKey): \n",
    "    n,e=PubKey\n",
    "    k=n\n",
    "    while gcd(k,n)!=1:\n",
    "        k=random.randint(1, n)\n",
    "    Zn=IntegerModRing(n)\n",
    "    m1=m*Zn(k)^e\n",
    "    return m1,k"
   ]
  },
  {
   "cell_type": "code",
   "execution_count": 199,
   "metadata": {},
   "outputs": [],
   "source": [
    "# Implemetação da 2ªparte da blind signature\n",
    "def blind2(m,PrivKey): \n",
    "    n,d=PrivKey\n",
    "    s=Zn=IntegerModRing(n)\n",
    "    s=Zn(m)^d\n",
    "    return s"
   ]
  },
  {
   "cell_type": "code",
   "execution_count": 212,
   "metadata": {},
   "outputs": [],
   "source": [
    "# Implemetação da 3ªparte da blind signature\n",
    "def blind3(s,k,PubKey): \n",
    "    n,e=PubKey\n",
    "    Zn=IntegerModRing(n)\n",
    "    s=s*Zn(k)^-1\n",
    "    return s"
   ]
  },
  {
   "cell_type": "code",
   "execution_count": 213,
   "metadata": {},
   "outputs": [
    {
     "data": {
      "text/plain": [
       "778116049"
      ]
     },
     "execution_count": 213,
     "metadata": {},
     "output_type": "execute_result"
    }
   ],
   "source": [
    "m1,k=blind1(123,PubKey)\n",
    "m1"
   ]
  },
  {
   "cell_type": "code",
   "execution_count": 214,
   "metadata": {},
   "outputs": [
    {
     "data": {
      "text/plain": [
       "1813822902"
      ]
     },
     "execution_count": 214,
     "metadata": {},
     "output_type": "execute_result"
    }
   ],
   "source": [
    "m2=blind2(m1,PrivKey)\n",
    "m2"
   ]
  },
  {
   "cell_type": "code",
   "execution_count": 217,
   "metadata": {},
   "outputs": [
    {
     "data": {
      "text/plain": [
       "3751676701"
      ]
     },
     "execution_count": 217,
     "metadata": {},
     "output_type": "execute_result"
    }
   ],
   "source": [
    "s=blind3(m2,k,PubKey)\n",
    "s"
   ]
  },
  {
   "cell_type": "code",
   "execution_count": 219,
   "metadata": {},
   "outputs": [
    {
     "data": {
      "text/plain": [
       "True"
      ]
     },
     "execution_count": 219,
     "metadata": {},
     "output_type": "execute_result"
    }
   ],
   "source": [
    "s==assina(123,PrivKey) #verifica se esta correto"
   ]
  },
  {
   "cell_type": "markdown",
   "metadata": {},
   "source": [
    "## Conclusão:"
   ]
  },
  {
   "cell_type": "markdown",
   "metadata": {},
   "source": [
    ">Em estilo de conclusão, achamos que os objetivos do exercício foram alcançados. Isto, pois conseguimos implementar a assinatura digital pretendida.\n",
    "\\\n",
    "\\\n",
    ">Esperemos que os professores também achem o mesmo e assim, damos como concluído o terceiro trabalho relativo à UC **Teoria de Números Computacional** e esperemos que continuemos com este sucesso no último trabalho!\n",
    "\n",
    "\n"
   ]
  }
 ],
 "metadata": {
  "kernelspec": {
   "display_name": "Python 3",
   "language": "python",
   "name": "python3"
  },
  "language_info": {
   "codemirror_mode": {
    "name": "ipython",
    "version": 3
   },
   "file_extension": ".py",
   "mimetype": "text/x-python",
   "name": "python",
   "nbconvert_exporter": "python",
   "pygments_lexer": "ipython3",
   "version": "3.8.5"
  }
 },
 "nbformat": 4,
 "nbformat_minor": 4
}
